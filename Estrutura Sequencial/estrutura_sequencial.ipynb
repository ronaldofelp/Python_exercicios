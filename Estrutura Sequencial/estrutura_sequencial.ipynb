{
 "cells": [
  {
   "cell_type": "markdown",
   "id": "710426d2",
   "metadata": {},
   "source": [
    "1-Faça um Programa que mostre a mensagem \"Alo mundo\" na tela. "
   ]
  },
  {
   "cell_type": "code",
   "execution_count": 24,
   "id": "81dfd370",
   "metadata": {},
   "outputs": [
    {
     "name": "stdout",
     "output_type": "stream",
     "text": [
      "Olá, mundo\n"
     ]
    }
   ],
   "source": [
    "print(\"Olá, mundo\")"
   ]
  },
  {
   "cell_type": "markdown",
   "id": "39075df2",
   "metadata": {},
   "source": [
    "2-Faça um Programa que peça um número e então mostre a mensagem O número informado foi [número]. "
   ]
  },
  {
   "cell_type": "code",
   "execution_count": 3,
   "id": "e7f90d9e",
   "metadata": {},
   "outputs": [
    {
     "name": "stdout",
     "output_type": "stream",
     "text": [
      "Digite um número: 4\n",
      "4\n"
     ]
    }
   ],
   "source": [
    "numero = int(input(\"Digite um número: \"))\n",
    "print(numero)"
   ]
  },
  {
   "cell_type": "markdown",
   "id": "8d9fae36",
   "metadata": {},
   "source": [
    "3-Faça um Programa que peça dois números e imprima a soma. "
   ]
  },
  {
   "cell_type": "code",
   "execution_count": 4,
   "id": "ed520958",
   "metadata": {},
   "outputs": [
    {
     "name": "stdout",
     "output_type": "stream",
     "text": [
      "Digite o primeiro número: 4\n",
      "Digite o segundo número: 5\n",
      "9\n"
     ]
    }
   ],
   "source": [
    "numero = int(input(\"Digite o primeiro número: \"))\n",
    "numero_2 = int(input(\"Digite o segundo número: \"))\n",
    "\n",
    "soma = numero + numero_2\n",
    "print(soma)"
   ]
  },
  {
   "cell_type": "markdown",
   "id": "c974d950",
   "metadata": {},
   "source": [
    "4-Faça um Programa que peça as 4 notas bimestrais e mostre a média. "
   ]
  },
  {
   "cell_type": "code",
   "execution_count": 8,
   "id": "fc8144e5",
   "metadata": {},
   "outputs": [
    {
     "name": "stdout",
     "output_type": "stream",
     "text": [
      "Digite a primeira nota: 7\n",
      "Digite a segunda nota: 8\n",
      "Digite terceira nota: 3\n",
      "Digite a quarta e útimma nota: 9\n",
      "6.75\n"
     ]
    }
   ],
   "source": [
    "nota_1= int(input(\"Digite a primeira nota: \"))\n",
    "nota_2 = int(input(\"Digite a segunda nota: \"))\n",
    "nota_3 = int(input(\"Digite terceira nota: \"))\n",
    "nota_4 = int(input(\"Digite a quarta e útimma nota: \"))\n",
    "\n",
    "soma_notas = nota_1 + nota_2 + nota_3 + nota_4\n",
    "\n",
    "print((soma_notas/4))"
   ]
  },
  {
   "cell_type": "markdown",
   "id": "6d070181",
   "metadata": {},
   "source": [
    "5-Faça um Programa que converta metros para centímetros. "
   ]
  },
  {
   "cell_type": "code",
   "execution_count": 15,
   "id": "35fec022",
   "metadata": {
    "scrolled": true
   },
   "outputs": [
    {
     "name": "stdout",
     "output_type": "stream",
     "text": [
      "Digite a quantidade de metros: 15\n",
      "15.0 metros em centimetros é: 1500.0\n"
     ]
    }
   ],
   "source": [
    "metros = float(input(\"Digite a quantidade de metros: \"))\n",
    "\n",
    "centimetros = metros * 100\n",
    "\n",
    "print(f'{metros} metros em centimetros é: {centimetros}')"
   ]
  },
  {
   "cell_type": "markdown",
   "id": "4ffe8fb9",
   "metadata": {},
   "source": [
    "6-Faça um Programa que peça o raio de um círculo, calcule e mostre sua área. "
   ]
  },
  {
   "cell_type": "code",
   "execution_count": 20,
   "id": "ca6dad75",
   "metadata": {},
   "outputs": [
    {
     "name": "stdout",
     "output_type": "stream",
     "text": [
      "Digite o raio: 4\n",
      "A área do círculo é: (3, 224.0)\n"
     ]
    }
   ],
   "source": [
    "\n",
    "\n",
    "raio = float(input('Digite o raio: '))\n",
    "\n",
    "area_circulo = 3,14 * (raio* raio)\n",
    "\n",
    "print(f'A área do círculo é: {area_circulo}')"
   ]
  },
  {
   "cell_type": "markdown",
   "id": "ca5be325",
   "metadata": {},
   "source": [
    "7-Faça um Programa que calcule a área de um quadrado, em seguida mostre o dobro desta área para o usuário. "
   ]
  },
  {
   "cell_type": "code",
   "execution_count": 22,
   "id": "a60d7e41",
   "metadata": {},
   "outputs": [
    {
     "name": "stdout",
     "output_type": "stream",
     "text": [
      "Digite a base do quadrado: 7\n",
      "Digite o lado: 7\n",
      "Dobro da area do quandrado: 98.0, metros quadrados\n"
     ]
    }
   ],
   "source": [
    "base = float(input('Digite a base do quadrado: '))\n",
    "\n",
    "lado = float(input('Digite o lado: '))\n",
    "\n",
    "dobro_area = 2 * (base * lado)\n",
    "\n",
    "print(f'Dobro da area do quandrado: {dobro_area}, metros quadrados')"
   ]
  },
  {
   "cell_type": "markdown",
   "id": "da8197a9",
   "metadata": {},
   "source": [
    "8-Faça um Programa que pergunte quanto você ganha por hora e o número de horas trabalhadas no mês. Calcule e mostre o total do seu salário no referido mês. "
   ]
  },
  {
   "cell_type": "code",
   "execution_count": 23,
   "id": "23788b47",
   "metadata": {},
   "outputs": [
    {
     "name": "stdout",
     "output_type": "stream",
     "text": [
      "Quanto voce ganha por hora? 1\n",
      "Digite as horas trabalhadas:  100\n",
      "100.0\n"
     ]
    }
   ],
   "source": [
    "preco_hora = float(input('Quanto voce ganha por hora? '))\n",
    "\n",
    "horas_trabalhadas = int(input('Digite as horas trabalhadas:  '))\n",
    "\n",
    "salario = preco_hora * horas_trabalhadas\n",
    "\n",
    "print(salario)"
   ]
  },
  {
   "cell_type": "markdown",
   "id": "35615d2b",
   "metadata": {},
   "source": [
    "9-Faça um Programa que peça a temperatura em graus Fahrenheit, transforme e mostre a temperatura em graus Celsius.\n",
    "\n",
    "    C = 5 * ((F-32) / 9). "
   ]
  },
  {
   "cell_type": "code",
   "execution_count": 26,
   "id": "9d8fa3dc",
   "metadata": {},
   "outputs": [
    {
     "name": "stdout",
     "output_type": "stream",
     "text": [
      "Digite a temparatutra em graus Fahrenheit: 50\n",
      "10.0\n"
     ]
    }
   ],
   "source": [
    "temperatura_fahrenheit = float(input('Digite a temparatutra em graus Fahrenheit: '))\n",
    "\n",
    "celsius = 5 * ((temperatura_fahrenheit - 32) / 9)\n",
    "\n",
    "print(celsius)"
   ]
  },
  {
   "cell_type": "markdown",
   "id": "aa667c47",
   "metadata": {},
   "source": [
    "10-Faça um Programa que peça a temperatura em graus Celsius, transforme e mostre em graus Fahrenheit. "
   ]
  },
  {
   "cell_type": "code",
   "execution_count": 28,
   "id": "764e4953",
   "metadata": {},
   "outputs": [
    {
     "name": "stdout",
     "output_type": "stream",
     "text": [
      "Digite a temparatutra em graus Celsius: 50\n",
      "122.0\n"
     ]
    }
   ],
   "source": [
    "temperatura_celsius = float(input('Digite a temparatutra em graus Celsius: '))\n",
    "\n",
    "fahrenheit = ((temperatura_celsius * 9) / 5 ) + 32\n",
    "\n",
    "print(fahrenheit)"
   ]
  },
  {
   "attachments": {},
   "cell_type": "markdown",
   "id": "7c6c0782",
   "metadata": {},
   "source": [
    "11-Faça um Programa que peça 2 números inteiros e um número real. Calcule e mostre:\n",
    "\n",
    "    a-o produto do dobro do primeiro com metade do segundo .\n",
    "    b-a soma do triplo do primeiro com o terceiro.\n",
    "    c-o terceiro elevado ao cubo. "
   ]
  },
  {
   "cell_type": "code",
   "execution_count": 3,
   "id": "09c7e7dd",
   "metadata": {},
   "outputs": [
    {
     "name": "stdout",
     "output_type": "stream",
     "text": [
      "Esse é o o produto do dobro do primeiro com metade do segundo: 8.0 \n",
      "Essaa é a soma do triplo do primeiro com o terceiro: 13.5 \n",
      "Esse é terceiro elevado ao cubo: 3.375 \n"
     ]
    }
   ],
   "source": [
    "numero_inteiro1 = int(input(\"Digite o primeiro numero inteiro: \"))\n",
    "numero_inteiro2 = int(input(\"Digite o segundo numero inteiro: \"))\n",
    "\n",
    "numero_real = float(input(\"Digite o número real: \"))\n",
    "\n",
    "\n",
    "produto = (2 * numero_inteiro1) * (numero_inteiro2 / 2)\n",
    "\n",
    "soman = (3 * numero_inteiro1) + numero_real\n",
    "\n",
    "potencia = numero_real**3\n",
    "\n",
    "\n",
    "print(f'Esse é o o produto do dobro do primeiro com metade do segundo: {produto} ')\n",
    "\n",
    "print(f'Essaa é a soma do triplo do primeiro com o terceiro: {soman} ')\n",
    "\n",
    "print(f'Esse é terceiro elevado ao cubo: {potencia} ')\n"
   ]
  },
  {
   "attachments": {},
   "cell_type": "markdown",
   "id": "2419ea1f",
   "metadata": {},
   "source": [
    "12 - Tendo como dados de entrada a altura de uma pessoa, construa um algoritmo que calcule seu peso ideal, usando a seguinte fórmula: (72.7*altura) - 58 "
   ]
  },
  {
   "cell_type": "code",
   "execution_count": 6,
   "id": "7ff2f061",
   "metadata": {},
   "outputs": [
    {
     "name": "stdout",
     "output_type": "stream",
     "text": [
      "O peso ideal é: 72.86\n"
     ]
    }
   ],
   "source": [
    "altura = float(input('digite a altura: '))\n",
    "\n",
    "peso__ideal = (72.7* altura) - 58\n",
    "\n",
    "print(f'O peso ideal é: {peso__ideal:.2f} Kg')"
   ]
  },
  {
   "attachments": {},
   "cell_type": "markdown",
   "id": "3e18d1dc",
   "metadata": {},
   "source": [
    "13-Tendo como dado de entrada a altura (h) de uma pessoa, construa um algoritmo que calcule seu peso ideal, utilizando as seguintes fórmulas:\n",
    "\n",
    "    Para homens: (72.7*h) - 58\n",
    "    Para mulheres: (62.1*h) - 44.7 "
   ]
  },
  {
   "cell_type": "code",
   "execution_count": 7,
   "id": "51f4dd88",
   "metadata": {},
   "outputs": [
    {
     "name": "stdout",
     "output_type": "stream",
     "text": [
      "Peso ideal para homens: 72.86. Peso ideal para mulheres: 67.08\n"
     ]
    }
   ],
   "source": [
    "altura_ = float(input('digite a altura: '))\n",
    "\n",
    "peso_homens = (72.7* altura_) - 58\n",
    "\n",
    "peso_mulheres = (62.1* altura_) - 44.7\n",
    "\n",
    "print(f'Peso ideal para homens: {peso_homens:.2f}. Peso ideal para mulheres: {peso_mulheres:.2f}')"
   ]
  },
  {
   "attachments": {},
   "cell_type": "markdown",
   "id": "69787ce1",
   "metadata": {},
   "source": [
    "14-João Papo-de-Pescador, homem de bem, comprou um microcomputador para controlar o rendimento diário de seu trabalho. Toda vez que ele traz um peso de peixes maior que o estabelecido pelo regulamento de pesca do estado de São Paulo (50 quilos) deve pagar uma multa de R$ 4,00 por quilo excedente. João precisa que você faça um programa que leia a variável peso (peso de peixes) e calcule o excesso. Gravar na variável excesso a quantidade de quilos além do limite e na variável multa o valor da multa que João deverá pagar. Imprima os dados do programa com as mensagens adequadas. "
   ]
  },
  {
   "cell_type": "code",
   "execution_count": 9,
   "id": "4359d6d5",
   "metadata": {},
   "outputs": [
    {
     "name": "stdout",
     "output_type": "stream",
     "text": [
      "João, voce pescou 51.0 Kg, com isso, excedeu em 1.0 Kg do limite estabelecido. Por isso, irá pagar 4.0 reais de multa\n"
     ]
    }
   ],
   "source": [
    "peso_pesca = float(input('Quantos quilos voce pescou hoje, João? '))\n",
    "\n",
    "excesso = (peso_pesca - 50)\n",
    "\n",
    "multa = excesso * 4\n",
    "\n",
    "\n",
    "print(f'João, voce pescou {peso_pesca} Kg, com isso, excedeu em {excesso} Kg do limite estabelecido. Por isso, irá pagar {multa} reais de multa')"
   ]
  },
  {
   "attachments": {},
   "cell_type": "markdown",
   "id": "0a6cc269",
   "metadata": {},
   "source": [
    "15 - Faça um Programa que pergunte quanto você ganha por hora e o número de horas trabalhadas no mês. Calcule e mostre o total do seu salário no referido mês, sabendo-se que são descontados 11% para o Imposto de Renda, 8% para o INSS e 5% para o sindicato, faça um programa que nos dê:\n",
    "\n",
    "   a- salário bruto.\n",
    "    b- quanto pagou ao INSS.\n",
    "    c-quanto pagou ao sindicato.\n",
    "    d-o salário líquido.\n",
    "    e-calcule os descontos e o salário líquido, conforme a tabela abaixo:\n",
    "\n",
    "    + Salário Bruto : R$\n",
    "    - IR (11%) : R$\n",
    "    - INSS (8%) : R$\n",
    "    - Sindicato ( 5%) : R$\n",
    "    = Salário Liquido : R$\n",
    "\n",
    "    Obs.: Salário Bruto - Descontos = Salário Líquido. "
   ]
  },
  {
   "cell_type": "code",
   "execution_count": 15,
   "id": "a1d25a34",
   "metadata": {},
   "outputs": [
    {
     "name": "stdout",
     "output_type": "stream",
     "text": [
      "Seu salário bruto é de: 1125.00\n",
      "         voce pagou R$ 90.00 de INSS, \n",
      "        voce pagou R$ 56.25 de sindicato,\n",
      "        Por isso, esse é o seu salário liquido R$ 855.00,\n",
      "    \n",
      "    \n"
     ]
    }
   ],
   "source": [
    "preco_hora = float(input('Quanto voce ganha por hora? '))\n",
    "\n",
    "horas_trabalhadas = int(input('Digite as horas trabalhadas:  '))\n",
    "\n",
    "salario_bruto = preco_hora * horas_trabalhadas\n",
    "\n",
    "desconto_ir = salario_bruto * 0.11\n",
    "\n",
    "desconto_inss = salario_bruto * 0.08\n",
    "\n",
    "desconto_sindicato = salario_bruto * 0.05\n",
    "\n",
    "salario_liquido =  salario_bruto - desconto_inss - desconto_ir - desconto_sindicato\n",
    "\n",
    "print(f'''Seu salário bruto é de: {salario_bruto:.2f}\n",
    "         voce pagou R$ {desconto_inss:.2f} de INSS, \n",
    "         voce pagou R$ {desconto_sindicato:.2f} de sindicato,\n",
    "         Por isso, esse é o seu salário liquido R$ {salario_liquido:.2f},\n",
    "    \n",
    "    ''')\n",
    "\n"
   ]
  },
  {
   "attachments": {},
   "cell_type": "markdown",
   "id": "48469aa1",
   "metadata": {},
   "source": [
    "16 - Faça um programa para uma loja de tintas. O programa deverá pedir o tamanho em metros quadrados da área a ser pintada. Considere que a cobertura da tinta é de 1 litro para cada 3 metros quadrados e que a tinta é vendida em latas de 18 litros, que custam R$ 80,00. Informe ao usuário a quantidades de latas de tinta a serem compradas e o preço total. "
   ]
  },
  {
   "cell_type": "code",
   "execution_count": null,
   "id": "475b15ac",
   "metadata": {},
   "outputs": [],
   "source": [
    "metros_quadrados = float(input('digite os metros quadrados: '))\n",
    "\n"
   ]
  }
 ],
 "metadata": {
  "kernelspec": {
   "display_name": "Python 3 (ipykernel)",
   "language": "python",
   "name": "python3"
  },
  "language_info": {
   "codemirror_mode": {
    "name": "ipython",
    "version": 3
   },
   "file_extension": ".py",
   "mimetype": "text/x-python",
   "name": "python",
   "nbconvert_exporter": "python",
   "pygments_lexer": "ipython3",
   "version": "3.11.2"
  }
 },
 "nbformat": 4,
 "nbformat_minor": 5
}
