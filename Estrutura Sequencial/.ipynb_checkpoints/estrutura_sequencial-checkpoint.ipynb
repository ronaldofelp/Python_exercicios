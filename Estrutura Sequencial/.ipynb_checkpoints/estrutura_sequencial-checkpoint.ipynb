{
 "cells": [
  {
   "cell_type": "markdown",
   "id": "710426d2",
   "metadata": {},
   "source": [
    "1-Faça um Programa que mostre a mensagem \"Alo mundo\" na tela. "
   ]
  },
  {
   "cell_type": "code",
   "execution_count": 24,
   "id": "81dfd370",
   "metadata": {},
   "outputs": [
    {
     "name": "stdout",
     "output_type": "stream",
     "text": [
      "Olá, mundo\n"
     ]
    }
   ],
   "source": [
    "print(\"Olá, mundo\")"
   ]
  },
  {
   "cell_type": "markdown",
   "id": "39075df2",
   "metadata": {},
   "source": [
    "2-Faça um Programa que peça um número e então mostre a mensagem O número informado foi [número]. "
   ]
  },
  {
   "cell_type": "code",
   "execution_count": 3,
   "id": "e7f90d9e",
   "metadata": {},
   "outputs": [
    {
     "name": "stdout",
     "output_type": "stream",
     "text": [
      "Digite um número: 4\n",
      "4\n"
     ]
    }
   ],
   "source": [
    "numero = int(input(\"Digite um número: \"))\n",
    "print(numero)"
   ]
  },
  {
   "cell_type": "markdown",
   "id": "8d9fae36",
   "metadata": {},
   "source": [
    "3-Faça um Programa que peça dois números e imprima a soma. "
   ]
  },
  {
   "cell_type": "code",
   "execution_count": 4,
   "id": "ed520958",
   "metadata": {},
   "outputs": [
    {
     "name": "stdout",
     "output_type": "stream",
     "text": [
      "Digite o primeiro número: 4\n",
      "Digite o segundo número: 5\n",
      "9\n"
     ]
    }
   ],
   "source": [
    "numero = int(input(\"Digite o primeiro número: \"))\n",
    "numero_2 = int(input(\"Digite o segundo número: \"))\n",
    "\n",
    "soma = numero + numero_2\n",
    "print(soma)"
   ]
  },
  {
   "cell_type": "markdown",
   "id": "c974d950",
   "metadata": {},
   "source": [
    "4-Faça um Programa que peça as 4 notas bimestrais e mostre a média. "
   ]
  },
  {
   "cell_type": "code",
   "execution_count": 8,
   "id": "fc8144e5",
   "metadata": {},
   "outputs": [
    {
     "name": "stdout",
     "output_type": "stream",
     "text": [
      "Digite a primeira nota: 7\n",
      "Digite a segunda nota: 8\n",
      "Digite terceira nota: 3\n",
      "Digite a quarta e útimma nota: 9\n",
      "6.75\n"
     ]
    }
   ],
   "source": [
    "nota_1= int(input(\"Digite a primeira nota: \"))\n",
    "nota_2 = int(input(\"Digite a segunda nota: \"))\n",
    "nota_3 = int(input(\"Digite terceira nota: \"))\n",
    "nota_4 = int(input(\"Digite a quarta e útimma nota: \"))\n",
    "\n",
    "soma_notas = nota_1 + nota_2 + nota_3 + nota_4\n",
    "\n",
    "print((soma_notas/4))"
   ]
  },
  {
   "cell_type": "markdown",
   "id": "6d070181",
   "metadata": {},
   "source": [
    "5-Faça um Programa que converta metros para centímetros. "
   ]
  },
  {
   "cell_type": "code",
   "execution_count": 15,
   "id": "35fec022",
   "metadata": {
    "scrolled": true
   },
   "outputs": [
    {
     "name": "stdout",
     "output_type": "stream",
     "text": [
      "Digite a quantidade de metros: 15\n",
      "15.0 metros em centimetros é: 1500.0\n"
     ]
    }
   ],
   "source": [
    "metros = float(input(\"Digite a quantidade de metros: \"))\n",
    "\n",
    "centimetros = metros * 100\n",
    "\n",
    "print(f'{metros} metros em centimetros é: {centimetros}')"
   ]
  },
  {
   "cell_type": "markdown",
   "id": "4ffe8fb9",
   "metadata": {},
   "source": [
    "6-Faça um Programa que peça o raio de um círculo, calcule e mostre sua área. "
   ]
  },
  {
   "cell_type": "code",
   "execution_count": 20,
   "id": "ca6dad75",
   "metadata": {},
   "outputs": [
    {
     "name": "stdout",
     "output_type": "stream",
     "text": [
      "Digite o raio: 4\n",
      "A área do círculo é: (3, 224.0)\n"
     ]
    }
   ],
   "source": [
    "\n",
    "\n",
    "raio = float(input('Digite o raio: '))\n",
    "\n",
    "area_circulo = 3,14 * (raio* raio)\n",
    "\n",
    "print(f'A área do círculo é: {area_circulo}')"
   ]
  },
  {
   "cell_type": "markdown",
   "id": "ca5be325",
   "metadata": {},
   "source": [
    "7-Faça um Programa que calcule a área de um quadrado, em seguida mostre o dobro desta área para o usuário. "
   ]
  },
  {
   "cell_type": "code",
   "execution_count": 22,
   "id": "a60d7e41",
   "metadata": {},
   "outputs": [
    {
     "name": "stdout",
     "output_type": "stream",
     "text": [
      "Digite a base do quadrado: 7\n",
      "Digite o lado: 7\n",
      "Dobro da area do quandrado: 98.0, metros quadrados\n"
     ]
    }
   ],
   "source": [
    "base = float(input('Digite a base do quadrado: '))\n",
    "\n",
    "lado = float(input('Digite o lado: '))\n",
    "\n",
    "dobro_area = 2 * (base * lado)\n",
    "\n",
    "print(f'Dobro da area do quandrado: {dobro_area}, metros quadrados')"
   ]
  },
  {
   "cell_type": "markdown",
   "id": "da8197a9",
   "metadata": {},
   "source": [
    "8-Faça um Programa que pergunte quanto você ganha por hora e o número de horas trabalhadas no mês. Calcule e mostre o total do seu salário no referido mês. "
   ]
  },
  {
   "cell_type": "code",
   "execution_count": 23,
   "id": "23788b47",
   "metadata": {},
   "outputs": [
    {
     "name": "stdout",
     "output_type": "stream",
     "text": [
      "Quanto voce ganha por hora? 1\n",
      "Digite as horas trabalhadas:  100\n",
      "100.0\n"
     ]
    }
   ],
   "source": [
    "preco_hora = float(input('Quanto voce ganha por hora? '))\n",
    "\n",
    "horas_trabalhadas = int(input('Digite as horas trabalhadas:  '))\n",
    "\n",
    "salario = preco_hora * horas_trabalhadas\n",
    "\n",
    "print(salario)"
   ]
  },
  {
   "cell_type": "markdown",
   "id": "35615d2b",
   "metadata": {},
   "source": [
    "9-Faça um Programa que peça a temperatura em graus Fahrenheit, transforme e mostre a temperatura em graus Celsius.\n",
    "\n",
    "    C = 5 * ((F-32) / 9). "
   ]
  },
  {
   "cell_type": "code",
   "execution_count": 26,
   "id": "9d8fa3dc",
   "metadata": {},
   "outputs": [
    {
     "name": "stdout",
     "output_type": "stream",
     "text": [
      "Digite a temparatutra em graus Fahrenheit: 50\n",
      "10.0\n"
     ]
    }
   ],
   "source": [
    "temperatura_fahrenheit = float(input('Digite a temparatutra em graus Fahrenheit: '))\n",
    "\n",
    "celsius = 5 * ((temperatura_fahrenheit - 32) / 9)\n",
    "\n",
    "print(celsius)"
   ]
  },
  {
   "cell_type": "markdown",
   "id": "aa667c47",
   "metadata": {},
   "source": [
    "10-Faça um Programa que peça a temperatura em graus Celsius, transforme e mostre em graus Fahrenheit. "
   ]
  },
  {
   "cell_type": "code",
   "execution_count": 28,
   "id": "764e4953",
   "metadata": {},
   "outputs": [
    {
     "name": "stdout",
     "output_type": "stream",
     "text": [
      "Digite a temparatutra em graus Celsius: 50\n",
      "122.0\n"
     ]
    }
   ],
   "source": [
    "temperatura_celsius = float(input('Digite a temparatutra em graus Celsius: '))\n",
    "\n",
    "fahrenheit = ((temperatura_celsius * 9) / 5 ) + 32\n",
    "\n",
    "print(fahrenheit)"
   ]
  },
  {
   "cell_type": "code",
   "execution_count": null,
   "id": "09c7e7dd",
   "metadata": {},
   "outputs": [],
   "source": []
  }
 ],
 "metadata": {
  "kernelspec": {
   "display_name": "Python 3 (ipykernel)",
   "language": "python",
   "name": "python3"
  },
  "language_info": {
   "codemirror_mode": {
    "name": "ipython",
    "version": 3
   },
   "file_extension": ".py",
   "mimetype": "text/x-python",
   "name": "python",
   "nbconvert_exporter": "python",
   "pygments_lexer": "ipython3",
   "version": "3.11.2"
  }
 },
 "nbformat": 4,
 "nbformat_minor": 5
}
